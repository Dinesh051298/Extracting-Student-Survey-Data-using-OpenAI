{
  "nbformat": 4,
  "nbformat_minor": 0,
  "metadata": {
    "colab": {
      "provenance": []
    },
    "kernelspec": {
      "name": "python3",
      "display_name": "Python 3"
    },
    "language_info": {
      "name": "python"
    }
  },
  "cells": [
    {
      "cell_type": "code",
      "execution_count": 1,
      "metadata": {
        "id": "w8BokHiLdGOA",
        "colab": {
          "base_uri": "https://localhost:8080/"
        },
        "outputId": "3362f447-a137-4fe1-a0aa-9357174eb8d8"
      },
      "outputs": [
        {
          "output_type": "stream",
          "name": "stdout",
          "text": [
            "Collecting openai\n",
            "  Downloading openai-1.33.0-py3-none-any.whl (325 kB)\n",
            "\u001b[2K     \u001b[90m━━━━━━━━━━━━━━━━━━━━━━━━━━━━━━━━━━━━━━━━\u001b[0m \u001b[32m325.5/325.5 kB\u001b[0m \u001b[31m6.4 MB/s\u001b[0m eta \u001b[36m0:00:00\u001b[0m\n",
            "\u001b[?25hRequirement already satisfied: anyio<5,>=3.5.0 in /usr/local/lib/python3.10/dist-packages (from openai) (3.7.1)\n",
            "Requirement already satisfied: distro<2,>=1.7.0 in /usr/lib/python3/dist-packages (from openai) (1.7.0)\n",
            "Collecting httpx<1,>=0.23.0 (from openai)\n",
            "  Downloading httpx-0.27.0-py3-none-any.whl (75 kB)\n",
            "\u001b[2K     \u001b[90m━━━━━━━━━━━━━━━━━━━━━━━━━━━━━━━━━━━━━━━━\u001b[0m \u001b[32m75.6/75.6 kB\u001b[0m \u001b[31m6.9 MB/s\u001b[0m eta \u001b[36m0:00:00\u001b[0m\n",
            "\u001b[?25hRequirement already satisfied: pydantic<3,>=1.9.0 in /usr/local/lib/python3.10/dist-packages (from openai) (2.7.3)\n",
            "Requirement already satisfied: sniffio in /usr/local/lib/python3.10/dist-packages (from openai) (1.3.1)\n",
            "Requirement already satisfied: tqdm>4 in /usr/local/lib/python3.10/dist-packages (from openai) (4.66.4)\n",
            "Requirement already satisfied: typing-extensions<5,>=4.7 in /usr/local/lib/python3.10/dist-packages (from openai) (4.12.1)\n",
            "Requirement already satisfied: idna>=2.8 in /usr/local/lib/python3.10/dist-packages (from anyio<5,>=3.5.0->openai) (3.7)\n",
            "Requirement already satisfied: exceptiongroup in /usr/local/lib/python3.10/dist-packages (from anyio<5,>=3.5.0->openai) (1.2.1)\n",
            "Requirement already satisfied: certifi in /usr/local/lib/python3.10/dist-packages (from httpx<1,>=0.23.0->openai) (2024.6.2)\n",
            "Collecting httpcore==1.* (from httpx<1,>=0.23.0->openai)\n",
            "  Downloading httpcore-1.0.5-py3-none-any.whl (77 kB)\n",
            "\u001b[2K     \u001b[90m━━━━━━━━━━━━━━━━━━━━━━━━━━━━━━━━━━━━━━━━\u001b[0m \u001b[32m77.9/77.9 kB\u001b[0m \u001b[31m6.9 MB/s\u001b[0m eta \u001b[36m0:00:00\u001b[0m\n",
            "\u001b[?25hCollecting h11<0.15,>=0.13 (from httpcore==1.*->httpx<1,>=0.23.0->openai)\n",
            "  Downloading h11-0.14.0-py3-none-any.whl (58 kB)\n",
            "\u001b[2K     \u001b[90m━━━━━━━━━━━━━━━━━━━━━━━━━━━━━━━━━━━━━━━━\u001b[0m \u001b[32m58.3/58.3 kB\u001b[0m \u001b[31m8.4 MB/s\u001b[0m eta \u001b[36m0:00:00\u001b[0m\n",
            "\u001b[?25hRequirement already satisfied: annotated-types>=0.4.0 in /usr/local/lib/python3.10/dist-packages (from pydantic<3,>=1.9.0->openai) (0.7.0)\n",
            "Requirement already satisfied: pydantic-core==2.18.4 in /usr/local/lib/python3.10/dist-packages (from pydantic<3,>=1.9.0->openai) (2.18.4)\n",
            "Installing collected packages: h11, httpcore, httpx, openai\n",
            "Successfully installed h11-0.14.0 httpcore-1.0.5 httpx-0.27.0 openai-1.33.0\n"
          ]
        }
      ],
      "source": [
        "pip install openai"
      ]
    },
    {
      "cell_type": "code",
      "source": [
        "from openai import OpenAI"
      ],
      "metadata": {
        "id": "aFNPMY5ueoqa"
      },
      "execution_count": 2,
      "outputs": []
    },
    {
      "cell_type": "code",
      "source": [
        "!pip install openai pandas requests\n"
      ],
      "metadata": {
        "colab": {
          "base_uri": "https://localhost:8080/"
        },
        "id": "XjIjoc1gessQ",
        "outputId": "e19effac-7c14-445a-8ff8-d4ca6d4b52b2"
      },
      "execution_count": 3,
      "outputs": [
        {
          "output_type": "stream",
          "name": "stdout",
          "text": [
            "Requirement already satisfied: openai in /usr/local/lib/python3.10/dist-packages (1.33.0)\n",
            "Requirement already satisfied: pandas in /usr/local/lib/python3.10/dist-packages (2.0.3)\n",
            "Requirement already satisfied: requests in /usr/local/lib/python3.10/dist-packages (2.31.0)\n",
            "Requirement already satisfied: anyio<5,>=3.5.0 in /usr/local/lib/python3.10/dist-packages (from openai) (3.7.1)\n",
            "Requirement already satisfied: distro<2,>=1.7.0 in /usr/lib/python3/dist-packages (from openai) (1.7.0)\n",
            "Requirement already satisfied: httpx<1,>=0.23.0 in /usr/local/lib/python3.10/dist-packages (from openai) (0.27.0)\n",
            "Requirement already satisfied: pydantic<3,>=1.9.0 in /usr/local/lib/python3.10/dist-packages (from openai) (2.7.3)\n",
            "Requirement already satisfied: sniffio in /usr/local/lib/python3.10/dist-packages (from openai) (1.3.1)\n",
            "Requirement already satisfied: tqdm>4 in /usr/local/lib/python3.10/dist-packages (from openai) (4.66.4)\n",
            "Requirement already satisfied: typing-extensions<5,>=4.7 in /usr/local/lib/python3.10/dist-packages (from openai) (4.12.1)\n",
            "Requirement already satisfied: python-dateutil>=2.8.2 in /usr/local/lib/python3.10/dist-packages (from pandas) (2.8.2)\n",
            "Requirement already satisfied: pytz>=2020.1 in /usr/local/lib/python3.10/dist-packages (from pandas) (2023.4)\n",
            "Requirement already satisfied: tzdata>=2022.1 in /usr/local/lib/python3.10/dist-packages (from pandas) (2024.1)\n",
            "Requirement already satisfied: numpy>=1.21.0 in /usr/local/lib/python3.10/dist-packages (from pandas) (1.25.2)\n",
            "Requirement already satisfied: charset-normalizer<4,>=2 in /usr/local/lib/python3.10/dist-packages (from requests) (3.3.2)\n",
            "Requirement already satisfied: idna<4,>=2.5 in /usr/local/lib/python3.10/dist-packages (from requests) (3.7)\n",
            "Requirement already satisfied: urllib3<3,>=1.21.1 in /usr/local/lib/python3.10/dist-packages (from requests) (2.0.7)\n",
            "Requirement already satisfied: certifi>=2017.4.17 in /usr/local/lib/python3.10/dist-packages (from requests) (2024.6.2)\n",
            "Requirement already satisfied: exceptiongroup in /usr/local/lib/python3.10/dist-packages (from anyio<5,>=3.5.0->openai) (1.2.1)\n",
            "Requirement already satisfied: httpcore==1.* in /usr/local/lib/python3.10/dist-packages (from httpx<1,>=0.23.0->openai) (1.0.5)\n",
            "Requirement already satisfied: h11<0.15,>=0.13 in /usr/local/lib/python3.10/dist-packages (from httpcore==1.*->httpx<1,>=0.23.0->openai) (0.14.0)\n",
            "Requirement already satisfied: annotated-types>=0.4.0 in /usr/local/lib/python3.10/dist-packages (from pydantic<3,>=1.9.0->openai) (0.7.0)\n",
            "Requirement already satisfied: pydantic-core==2.18.4 in /usr/local/lib/python3.10/dist-packages (from pydantic<3,>=1.9.0->openai) (2.18.4)\n",
            "Requirement already satisfied: six>=1.5 in /usr/local/lib/python3.10/dist-packages (from python-dateutil>=2.8.2->pandas) (1.16.0)\n"
          ]
        }
      ]
    },
    {
      "cell_type": "code",
      "source": [
        "import openai\n",
        "import requests\n",
        "import pandas as pd\n",
        "\n",
        "# Set up your OpenAI API key\n",
        "key = 'sk-proj-RF8t21P16fbbPE719ku2T3BlbkFJEtb49xkqaCtFxdfTkrXV'\n",
        "\n",
        "client = OpenAI(api_key=key)"
      ],
      "metadata": {
        "id": "XRKQJM0vMRPd"
      },
      "execution_count": 5,
      "outputs": []
    },
    {
      "cell_type": "code",
      "source": [
        "file_path = 'Food Data.txt'\n",
        "with open(file_path, 'r') as file:\n",
        "    data = file.read()"
      ],
      "metadata": {
        "id": "_gIp73WUMW5z"
      },
      "execution_count": 6,
      "outputs": []
    },
    {
      "cell_type": "code",
      "source": [
        "print(data)\n"
      ],
      "metadata": {
        "colab": {
          "base_uri": "https://localhost:8080/"
        },
        "id": "ZLz88oJnMZ_d",
        "outputId": "90a2080f-66d7-41eb-9bbf-6543e5754a75"
      },
      "execution_count": 7,
      "outputs": [
        {
          "output_type": "stream",
          "name": "stdout",
          "text": [
            "Hi, I'm Ravi. I love Pizza and Burger of LaPinoz in Jaipur. I spent a whopping Rs. 9000 on food last month!\n",
            "Hey there, it's Sameer from Delhi. Butter Chicken and Naan from Zaika are my go-to comfort food. I try to limit myself to Rs. 5000 a month on takeout. 🫓\n",
            "Namaste! I'm Kiran, a big fan of the Chole Bhature at Chandni Chowk in Delhi. So delicious and affordable! I usually spend around Rs. 2000 a month on eating out.\n",
            "What's up? This is Maya from Bengaluru. Can't wait to try the Rajma Chawal at Biryani Paradise tonight. I budgeted Rs. 3000 for eating out this month, but it might not be enough!\n",
            "Hi everyone, it's Akash from Chennai. Huge fan of the Thali meals at Saravana Bhavan. So much variety! They're a steal at Rs. 250 per meal, so I can eat there often and stay within my Rs. 4000 budget.\n",
            "Hey! I'm Neha from Mumbai. Love the Aloo Gobi and Roti at Ghar كي (Ki) Rasoi. Feels like home! It's a bit pricey, but worth it. I spend around Rs. 6000 a month on eating out.\n",
            "Hello! This is Rohan from Hyderabad. Biryani cravings hit different! Gotta visit Paradise Biryani soon. I try to limit myself to Rs. 4500 a month on takeout, but their biryani is hard to resist!\n",
            "What's up everyone? It's Aisha from Pune. Can't resist the Pav Bhaji from Aadyaa. So cheesy and yummy! It's budget-friendly too, at around Rs. 150 per plate. I can afford to eat there often with my Rs. 3500 monthly food budget.\n",
            "Hi there, I'm Dev from Chennai. South Indian food is my favorite! Dosa and Uttapam from Sankalp are the best! They're vegetarian and affordable, perfect for my Rs. 2000 monthly food budget. dosa uttapam\n",
            "Namaste! This is Mira from Bengaluru. Nothing beats the Masala Dosa and Filter Coffee at Iyengar Bakery. ☕️ I usually spend around Rs. 2500 a month on eating out, and Iyengar's is always a go-to for a quick and tasty meal.\n",
            "Hey everyone, it's Rahul from Delhi. Weekends are for indulging! The Mutton Rogan Josh at Karim's is calling my name. It's a splurge, but worth it sometimes. I typically spend Rs. 5000 a month on food, but I might go over budget this month!\n",
            "What's up? I'm Nikita from Kolkata. Craving some Momos and Thukpa from Doma Cafe. Perfect for a rainy day! I spend around Rs. 3000 a month on eating out, and Doma Cafe is always a reliable and affordable option.\n",
            "Hi there, I'm Aditya from Mumbai. Love experimenting with new cuisines. Just tried the Chettinad Chicken at Chettinad Vasanta Bhavan. ️ I usually spend around Rs. 4000 a month on food, so I can try new places like this without breaking the bank.\n",
            "Hello! This is Priyanka from Delhi. Can't resist the street food! The Dahi Vada from any local stall is unbeatable, and at just Rs. 30 per plate, it's easy to stay on budget. My monthly food budget is around Rs. 2500.\n",
            "Hey everyone, it's Arjun from Chandigarh. The Lassi at Giani's is legendary. Perfect after a spicy meal! I try to limit myself to Rs. 3500 a month on eating out, but good Lassi is hard to resist!\n",
            "What's up? I'm Shreya from Pune. Love a good fusion dish! The Tandoori Chicken Pizza at The Pizza Bakery is amazing! It's a bit of a splurge at Rs. 500, but I factor in occasional treats like this to my Rs. 4000 monthly food budget.\n",
            "Hello! This is Kavita from Ahmedabad. Can't resist a good Gujarati Thali! The one at Thakkar Bhojanalay is a delicious explosion of flavors, for a reasonable Rs. 350. My monthly food budget is around Rs. 3000.\n",
            "Hey everyone, it's Sumit from Bengaluru. Weekends are for exploring new cafes! The ambience and coffee at Starbucks are worth the splurge, at around Rs. 300 a cup. I typically budget Rs. 4500 for eating out, with some room for occasional treats. ☕️\n",
            "What's up? I'm Anjali from Mumbai. Can't resist a good dosa with aloo palak! Mysore Cafe has the best in town, for around Rs. 180 per plate. It fits perfectly within my Rs. 2800 monthly food budget.\n",
            "Hi there, I'm Vikas from Jaipur. Vegan options for the win! Love the Rajma Masala with brown rice at Nature's Basket. It's healthy and affordable, at around Rs. 250 per plate. I usually spend around Rs. 3000 a month on eating out.\n",
            "Hello! This is Pooja from Kolkata. The chaat at Bengali Sweets is my weakness! The Puchkas and Dahi Bhalla are to die for, at just Rs. 50 per plate. I can indulge often with my Rs. 2500 monthly food budget.\n",
            "Hey everyone, it's Nikhil from Delhi. Can't resist a good Dhaba experience! The Dal Makhani andMissi Roti at Amrik Sukhdev Dhaba are legendary, for a reasonable Rs. 400 per meal. My food budget is typically Rs. 5000 a month.\n",
            "What's up? I'm Sonia from Hyderabad. Craving some authentic Bengali food! The Elish Machher Patudi at Oh! Calcutta is a must-have, but it's a bit pricey at Rs. 800. I usually spend Rs. 4000 a month on eating out, but I might splurge this time.\n",
            "Hi there, I'm Manish from Pune. Dinner with friends is always fun! We love trying new places, but Jugaadu is our go-to for delicious and affordable Indian street food fusion. We can share a variety of dishes for around Rs. 500-700, which fits our group's budget perfectly.\n",
            "Hey! I'm Shivani from Mumbai. Fine dining is my occasional treat! The Lamb Rogan Josh at Indian Accent is divine, but it's a splurge at Rs. 1500 per plate. Thankfully, my monthly food budget is around Rs. 8000, so I can factor in these special occasions.\n",
            "What's up? I'm Abhishek from Delhi. Love a good European breakfast! The Eggs Benedict at Olive Bar & Kitchen are amazing, for around Rs. 700 a plate. With a Rs. 10,000 monthly food budget, I can enjoy international cuisine without breaking the bank.\n",
            "Hi there, I'm Riya from Bengaluru. Exploring healthy options! The Quinoa Salad with grilled chicken at The Skinny Bowl is a delicious and nutritious choice, at Rs. 450 per plate. My monthly food budget is Rs. 7000, which allows me to prioritize healthy eating habits.\n",
            "Hello! This is Yash from Hyderabad. Can't resist a luxurious seafood experience! The Lobster Curry at Taj Krishna is decadent, for around Rs. 2000 per serving. Luckily, my Rs. 12,000 monthly food budget allows for occasional indulgences.\n",
            "Hey everyone, it's Priya from Chennai. Love a good Italian meal! The Truffle Pasta at Serafina is heavenly, but it comes with a hefty price tag of Rs. 1200 per plate. Thankfully, my Rs. 9000 monthly food budget allows me to treat myself to these fancy dishes sometimes.\n"
          ]
        }
      ]
    },
    {
      "cell_type": "code",
      "source": [
        "\n",
        "\n",
        "user_tools = [\n",
        "        {\n",
        "            \"type\": \"function\",\n",
        "            \"function\": {\n",
        "               \"name\": \"user_info\",\n",
        "                \"description\": \"Get user information from the text\",\n",
        "                \"parameters\": {\n",
        "                    \"type\": \"object\",\n",
        "                    \"properties\": {\n",
        "                        \"name\": {\n",
        "                            \"type\": \"string\",\n",
        "                            \"description\": \"name of the user\",\n",
        "                        },\n",
        "                        \"fav_Food\": {\n",
        "                            \"type\": \"string\",\n",
        "                            \"description\": \"favorite food of the user\",\n",
        "                        },\n",
        "                        \"fav_restaurant\": {\n",
        "                            \"type\": \"string\",\n",
        "                            \"description\": \"Restaurant name where users prefers to eat\",\n",
        "                        },\n",
        "                    \"total_amt\": {\n",
        "                            \"type\": \"string\",\n",
        "                            \"description\": \"Amount spent by the user monthly\",\n",
        "                        },\n",
        "                        \"city\": {\n",
        "                            \"type\": \"string\",\n",
        "                            \"description\": \"city of the user\",\n",
        "                        },\n",
        "                            \"suggestion\": {\n",
        "                            \"type\": \"string\",\n",
        "                            \"description\": \"Suggestions from the people\",\n",
        "                        },\n",
        "                },\n",
        "            },\n",
        "        }\n",
        "        }\n",
        "    ]"
      ],
      "metadata": {
        "id": "aMAWwIdvMf6Q"
      },
      "execution_count": 8,
      "outputs": []
    },
    {
      "cell_type": "code",
      "source": [
        "data = data.replace('\\n', '')\n",
        "\n",
        "response = client.chat.completions.create(\n",
        "  model=\"gpt-3.5-turbo\",\n",
        "  messages=[{\"role\": \"user\", \"content\": data}],\n",
        "    tools=user_tools\n",
        ")\n",
        "\n",
        "response"
      ],
      "metadata": {
        "colab": {
          "base_uri": "https://localhost:8080/"
        },
        "id": "Gm0Ms8X9Mcjl",
        "outputId": "8c922847-c1df-4835-a3c7-c52672e51f2f"
      },
      "execution_count": 9,
      "outputs": [
        {
          "output_type": "execute_result",
          "data": {
            "text/plain": [
              "ChatCompletion(id='chatcmpl-9YCvdKRG5WK6WUzzJyIL2cqZLTwkq', choices=[Choice(finish_reason='tool_calls', index=0, logprobs=None, message=ChatCompletionMessage(content=None, role='assistant', function_call=None, tool_calls=[ChatCompletionMessageToolCall(id='call_GVxBYOT9ylErW2ZntJ0lsrEH', function=Function(arguments='{\"name\": \"Ravi\", \"fav_Food\": \"Pizza and Burger\", \"fav_restaurant\": \"LaPinoz\", \"total_amt\": \"9000\", \"city\": \"Jaipur\"}', name='user_info'), type='function'), ChatCompletionMessageToolCall(id='call_f6euNLLM97LObqudJ1hWDYIU', function=Function(arguments='{\"name\": \"Sameer\", \"fav_Food\": \"Butter Chicken and Naan\", \"fav_restaurant\": \"Zaika\", \"total_amt\": \"5000\", \"city\": \"Delhi\"}', name='user_info'), type='function'), ChatCompletionMessageToolCall(id='call_iLUNpYc8uUMAbOsoP6DgWUQs', function=Function(arguments='{\"name\": \"Kiran\", \"fav_Food\": \"Chole Bhature\", \"fav_restaurant\": \"Chandni Chowk\", \"total_amt\": \"2000\", \"city\": \"Delhi\"}', name='user_info'), type='function'), ChatCompletionMessageToolCall(id='call_98fJCb24sTDYU6GeVyuzjA87', function=Function(arguments='{\"name\": \"Maya\", \"fav_Food\": \"Rajma Chawal\", \"fav_restaurant\": \"Biryani Paradise\", \"total_amt\": \"3000\", \"city\": \"Bengaluru\"}', name='user_info'), type='function'), ChatCompletionMessageToolCall(id='call_Xkq4VyK5F8Pd6TZzpWtsxNKg', function=Function(arguments='{\"name\": \"Akash\", \"fav_Food\": \"Thali meals\", \"fav_restaurant\": \"Saravana Bhavan\", \"total_amt\": \"4000\", \"city\": \"Chennai\"}', name='user_info'), type='function'), ChatCompletionMessageToolCall(id='call_G061HKPQeLpThWR9109b90k9', function=Function(arguments='{\"name\": \"Neha\", \"fav_Food\": \"Aloo Gobi and Roti\", \"fav_restaurant\": \"Ghar Ki Rasoi\", \"total_amt\": \"6000\", \"city\": \"Mumbai\"}', name='user_info'), type='function'), ChatCompletionMessageToolCall(id='call_fmQSKbrPTKEZPAiMaVNdVD0y', function=Function(arguments='{\"name\": \"Rohan\", \"fav_Food\": \"Biryani\", \"fav_restaurant\": \"Paradise Biryani\", \"total_amt\": \"4500\", \"city\": \"Hyderabad\"}', name='user_info'), type='function'), ChatCompletionMessageToolCall(id='call_3x7vB2N5zYQFBZD3CEHNGZGo', function=Function(arguments='{\"name\": \"Aisha\", \"fav_Food\": \"Pav Bhaji\", \"fav_restaurant\": \"Aadyaa\", \"total_amt\": \"3500\", \"city\": \"Pune\"}', name='user_info'), type='function'), ChatCompletionMessageToolCall(id='call_QOiclNG3d5ec7HqVsLhbu7mD', function=Function(arguments='{\"name\": \"Dev\", \"fav_Food\": \"Dosa and Uttapam\", \"fav_restaurant\": \"Sankalp\", \"total_amt\": \"2000\", \"city\": \"Chennai\"}', name='user_info'), type='function'), ChatCompletionMessageToolCall(id='call_5ge34T35rQ4GsshgChcjnhtT', function=Function(arguments='{\"name\": \"Mira\", \"fav_Food\": \"Masala Dosa and Filter Coffee\", \"fav_restaurant\": \"Iyengar Bakery\", \"total_amt\": \"2500\", \"city\": \"Bengaluru\"}', name='user_info'), type='function')]))], created=1717939877, model='gpt-3.5-turbo-0125', object='chat.completion', system_fingerprint=None, usage=CompletionUsage(completion_tokens=472, prompt_tokens=1808, total_tokens=2280))"
            ]
          },
          "metadata": {},
          "execution_count": 9
        }
      ]
    },
    {
      "cell_type": "code",
      "source": [
        "# prompt: print(response.choices[0].message.tool_calls[i].function.arguments) until last element and also exception handling and store it in pandas dataframe\n",
        "\n",
        "for i in range(len(response.choices[0].message.tool_calls)):\n",
        "  try:\n",
        "    print(response.choices[0].message.tool_calls[i].function.arguments)\n",
        "  except IndexError:\n",
        "    print(\"End of tool calls reached.\")\n",
        "    break\n",
        "\n",
        "# Store the extracted data in a Pandas DataFrame\n",
        "df = pd.DataFrame(columns=[\"name\", \"fav_Food\", \"fav_restaurant\", \"total_amt\", \"city\", \"suggestion\"])\n",
        "\n",
        "for i in range(len(response.choices[0].message.tool_calls)):\n",
        "  try:\n",
        "    df.loc[i] = response.choices[0].message.tool_calls[i].function.arguments\n",
        "  except IndexError:\n",
        "    break\n"
      ],
      "metadata": {
        "colab": {
          "base_uri": "https://localhost:8080/"
        },
        "id": "W0NDBdQHMruw",
        "outputId": "3348894c-0c41-4b31-aaa6-74c3053f957f"
      },
      "execution_count": 11,
      "outputs": [
        {
          "output_type": "stream",
          "name": "stdout",
          "text": [
            "{\"name\": \"Ravi\", \"fav_Food\": \"Pizza and Burger\", \"fav_restaurant\": \"LaPinoz\", \"total_amt\": \"9000\", \"city\": \"Jaipur\"}\n",
            "{\"name\": \"Sameer\", \"fav_Food\": \"Butter Chicken and Naan\", \"fav_restaurant\": \"Zaika\", \"total_amt\": \"5000\", \"city\": \"Delhi\"}\n",
            "{\"name\": \"Kiran\", \"fav_Food\": \"Chole Bhature\", \"fav_restaurant\": \"Chandni Chowk\", \"total_amt\": \"2000\", \"city\": \"Delhi\"}\n",
            "{\"name\": \"Maya\", \"fav_Food\": \"Rajma Chawal\", \"fav_restaurant\": \"Biryani Paradise\", \"total_amt\": \"3000\", \"city\": \"Bengaluru\"}\n",
            "{\"name\": \"Akash\", \"fav_Food\": \"Thali meals\", \"fav_restaurant\": \"Saravana Bhavan\", \"total_amt\": \"4000\", \"city\": \"Chennai\"}\n",
            "{\"name\": \"Neha\", \"fav_Food\": \"Aloo Gobi and Roti\", \"fav_restaurant\": \"Ghar Ki Rasoi\", \"total_amt\": \"6000\", \"city\": \"Mumbai\"}\n",
            "{\"name\": \"Rohan\", \"fav_Food\": \"Biryani\", \"fav_restaurant\": \"Paradise Biryani\", \"total_amt\": \"4500\", \"city\": \"Hyderabad\"}\n",
            "{\"name\": \"Aisha\", \"fav_Food\": \"Pav Bhaji\", \"fav_restaurant\": \"Aadyaa\", \"total_amt\": \"3500\", \"city\": \"Pune\"}\n",
            "{\"name\": \"Dev\", \"fav_Food\": \"Dosa and Uttapam\", \"fav_restaurant\": \"Sankalp\", \"total_amt\": \"2000\", \"city\": \"Chennai\"}\n",
            "{\"name\": \"Mira\", \"fav_Food\": \"Masala Dosa and Filter Coffee\", \"fav_restaurant\": \"Iyengar Bakery\", \"total_amt\": \"2500\", \"city\": \"Bengaluru\"}\n"
          ]
        }
      ]
    },
    {
      "cell_type": "code",
      "source": [
        "pip install langchain"
      ],
      "metadata": {
        "colab": {
          "base_uri": "https://localhost:8080/"
        },
        "id": "GkUtF7QuMjGS",
        "outputId": "bec6c775-b9f9-4de7-dddf-a6f92c5572f3"
      },
      "execution_count": 12,
      "outputs": [
        {
          "output_type": "stream",
          "name": "stdout",
          "text": [
            "Collecting langchain\n",
            "  Downloading langchain-0.2.3-py3-none-any.whl (974 kB)\n",
            "\u001b[2K     \u001b[90m━━━━━━━━━━━━━━━━━━━━━━━━━━━━━━━━━━━━━━━━\u001b[0m \u001b[32m974.0/974.0 kB\u001b[0m \u001b[31m8.7 MB/s\u001b[0m eta \u001b[36m0:00:00\u001b[0m\n",
            "\u001b[?25hRequirement already satisfied: PyYAML>=5.3 in /usr/local/lib/python3.10/dist-packages (from langchain) (6.0.1)\n",
            "Requirement already satisfied: SQLAlchemy<3,>=1.4 in /usr/local/lib/python3.10/dist-packages (from langchain) (2.0.30)\n",
            "Requirement already satisfied: aiohttp<4.0.0,>=3.8.3 in /usr/local/lib/python3.10/dist-packages (from langchain) (3.9.5)\n",
            "Requirement already satisfied: async-timeout<5.0.0,>=4.0.0 in /usr/local/lib/python3.10/dist-packages (from langchain) (4.0.3)\n",
            "Collecting langchain-core<0.3.0,>=0.2.0 (from langchain)\n",
            "  Downloading langchain_core-0.2.5-py3-none-any.whl (314 kB)\n",
            "\u001b[2K     \u001b[90m━━━━━━━━━━━━━━━━━━━━━━━━━━━━━━━━━━━━━━━━\u001b[0m \u001b[32m314.7/314.7 kB\u001b[0m \u001b[31m14.2 MB/s\u001b[0m eta \u001b[36m0:00:00\u001b[0m\n",
            "\u001b[?25hCollecting langchain-text-splitters<0.3.0,>=0.2.0 (from langchain)\n",
            "  Downloading langchain_text_splitters-0.2.1-py3-none-any.whl (23 kB)\n",
            "Collecting langsmith<0.2.0,>=0.1.17 (from langchain)\n",
            "  Downloading langsmith-0.1.75-py3-none-any.whl (124 kB)\n",
            "\u001b[2K     \u001b[90m━━━━━━━━━━━━━━━━━━━━━━━━━━━━━━━━━━━━━━━━\u001b[0m \u001b[32m124.9/124.9 kB\u001b[0m \u001b[31m10.0 MB/s\u001b[0m eta \u001b[36m0:00:00\u001b[0m\n",
            "\u001b[?25hRequirement already satisfied: numpy<2,>=1 in /usr/local/lib/python3.10/dist-packages (from langchain) (1.25.2)\n",
            "Requirement already satisfied: pydantic<3,>=1 in /usr/local/lib/python3.10/dist-packages (from langchain) (2.7.3)\n",
            "Requirement already satisfied: requests<3,>=2 in /usr/local/lib/python3.10/dist-packages (from langchain) (2.31.0)\n",
            "Requirement already satisfied: tenacity<9.0.0,>=8.1.0 in /usr/local/lib/python3.10/dist-packages (from langchain) (8.3.0)\n",
            "Requirement already satisfied: aiosignal>=1.1.2 in /usr/local/lib/python3.10/dist-packages (from aiohttp<4.0.0,>=3.8.3->langchain) (1.3.1)\n",
            "Requirement already satisfied: attrs>=17.3.0 in /usr/local/lib/python3.10/dist-packages (from aiohttp<4.0.0,>=3.8.3->langchain) (23.2.0)\n",
            "Requirement already satisfied: frozenlist>=1.1.1 in /usr/local/lib/python3.10/dist-packages (from aiohttp<4.0.0,>=3.8.3->langchain) (1.4.1)\n",
            "Requirement already satisfied: multidict<7.0,>=4.5 in /usr/local/lib/python3.10/dist-packages (from aiohttp<4.0.0,>=3.8.3->langchain) (6.0.5)\n",
            "Requirement already satisfied: yarl<2.0,>=1.0 in /usr/local/lib/python3.10/dist-packages (from aiohttp<4.0.0,>=3.8.3->langchain) (1.9.4)\n",
            "Collecting jsonpatch<2.0,>=1.33 (from langchain-core<0.3.0,>=0.2.0->langchain)\n",
            "  Downloading jsonpatch-1.33-py2.py3-none-any.whl (12 kB)\n",
            "Collecting packaging<24.0,>=23.2 (from langchain-core<0.3.0,>=0.2.0->langchain)\n",
            "  Downloading packaging-23.2-py3-none-any.whl (53 kB)\n",
            "\u001b[2K     \u001b[90m━━━━━━━━━━━━━━━━━━━━━━━━━━━━━━━━━━━━━━━━\u001b[0m \u001b[32m53.0/53.0 kB\u001b[0m \u001b[31m6.1 MB/s\u001b[0m eta \u001b[36m0:00:00\u001b[0m\n",
            "\u001b[?25hCollecting orjson<4.0.0,>=3.9.14 (from langsmith<0.2.0,>=0.1.17->langchain)\n",
            "  Downloading orjson-3.10.3-cp310-cp310-manylinux_2_17_x86_64.manylinux2014_x86_64.whl (142 kB)\n",
            "\u001b[2K     \u001b[90m━━━━━━━━━━━━━━━━━━━━━━━━━━━━━━━━━━━━━━━━\u001b[0m \u001b[32m142.5/142.5 kB\u001b[0m \u001b[31m11.3 MB/s\u001b[0m eta \u001b[36m0:00:00\u001b[0m\n",
            "\u001b[?25hRequirement already satisfied: annotated-types>=0.4.0 in /usr/local/lib/python3.10/dist-packages (from pydantic<3,>=1->langchain) (0.7.0)\n",
            "Requirement already satisfied: pydantic-core==2.18.4 in /usr/local/lib/python3.10/dist-packages (from pydantic<3,>=1->langchain) (2.18.4)\n",
            "Requirement already satisfied: typing-extensions>=4.6.1 in /usr/local/lib/python3.10/dist-packages (from pydantic<3,>=1->langchain) (4.12.1)\n",
            "Requirement already satisfied: charset-normalizer<4,>=2 in /usr/local/lib/python3.10/dist-packages (from requests<3,>=2->langchain) (3.3.2)\n",
            "Requirement already satisfied: idna<4,>=2.5 in /usr/local/lib/python3.10/dist-packages (from requests<3,>=2->langchain) (3.7)\n",
            "Requirement already satisfied: urllib3<3,>=1.21.1 in /usr/local/lib/python3.10/dist-packages (from requests<3,>=2->langchain) (2.0.7)\n",
            "Requirement already satisfied: certifi>=2017.4.17 in /usr/local/lib/python3.10/dist-packages (from requests<3,>=2->langchain) (2024.6.2)\n",
            "Requirement already satisfied: greenlet!=0.4.17 in /usr/local/lib/python3.10/dist-packages (from SQLAlchemy<3,>=1.4->langchain) (3.0.3)\n",
            "Collecting jsonpointer>=1.9 (from jsonpatch<2.0,>=1.33->langchain-core<0.3.0,>=0.2.0->langchain)\n",
            "  Downloading jsonpointer-2.4-py2.py3-none-any.whl (7.8 kB)\n",
            "Installing collected packages: packaging, orjson, jsonpointer, jsonpatch, langsmith, langchain-core, langchain-text-splitters, langchain\n",
            "  Attempting uninstall: packaging\n",
            "    Found existing installation: packaging 24.0\n",
            "    Uninstalling packaging-24.0:\n",
            "      Successfully uninstalled packaging-24.0\n",
            "Successfully installed jsonpatch-1.33 jsonpointer-2.4 langchain-0.2.3 langchain-core-0.2.5 langchain-text-splitters-0.2.1 langsmith-0.1.75 orjson-3.10.3 packaging-23.2\n"
          ]
        }
      ]
    },
    {
      "cell_type": "code",
      "source": [
        "import langchain"
      ],
      "metadata": {
        "id": "_f0ehd9dYZtq"
      },
      "execution_count": 13,
      "outputs": []
    },
    {
      "cell_type": "code",
      "source": [
        "pip install langchain-community langchain-core"
      ],
      "metadata": {
        "colab": {
          "base_uri": "https://localhost:8080/"
        },
        "id": "l22sGJPtYkpM",
        "outputId": "dcc24271-b1e1-432f-8190-26fef1b0af38"
      },
      "execution_count": 14,
      "outputs": [
        {
          "output_type": "stream",
          "name": "stdout",
          "text": [
            "Collecting langchain-community\n",
            "  Downloading langchain_community-0.2.4-py3-none-any.whl (2.2 MB)\n",
            "\u001b[2K     \u001b[90m━━━━━━━━━━━━━━━━━━━━━━━━━━━━━━━━━━━━━━━━\u001b[0m \u001b[32m2.2/2.2 MB\u001b[0m \u001b[31m13.8 MB/s\u001b[0m eta \u001b[36m0:00:00\u001b[0m\n",
            "\u001b[?25hRequirement already satisfied: langchain-core in /usr/local/lib/python3.10/dist-packages (0.2.5)\n",
            "Requirement already satisfied: PyYAML>=5.3 in /usr/local/lib/python3.10/dist-packages (from langchain-community) (6.0.1)\n",
            "Requirement already satisfied: SQLAlchemy<3,>=1.4 in /usr/local/lib/python3.10/dist-packages (from langchain-community) (2.0.30)\n",
            "Requirement already satisfied: aiohttp<4.0.0,>=3.8.3 in /usr/local/lib/python3.10/dist-packages (from langchain-community) (3.9.5)\n",
            "Collecting dataclasses-json<0.7,>=0.5.7 (from langchain-community)\n",
            "  Downloading dataclasses_json-0.6.6-py3-none-any.whl (28 kB)\n",
            "Requirement already satisfied: langchain<0.3.0,>=0.2.0 in /usr/local/lib/python3.10/dist-packages (from langchain-community) (0.2.3)\n",
            "Requirement already satisfied: langsmith<0.2.0,>=0.1.0 in /usr/local/lib/python3.10/dist-packages (from langchain-community) (0.1.75)\n",
            "Requirement already satisfied: numpy<2,>=1 in /usr/local/lib/python3.10/dist-packages (from langchain-community) (1.25.2)\n",
            "Requirement already satisfied: requests<3,>=2 in /usr/local/lib/python3.10/dist-packages (from langchain-community) (2.31.0)\n",
            "Requirement already satisfied: tenacity<9.0.0,>=8.1.0 in /usr/local/lib/python3.10/dist-packages (from langchain-community) (8.3.0)\n",
            "Requirement already satisfied: jsonpatch<2.0,>=1.33 in /usr/local/lib/python3.10/dist-packages (from langchain-core) (1.33)\n",
            "Requirement already satisfied: packaging<24.0,>=23.2 in /usr/local/lib/python3.10/dist-packages (from langchain-core) (23.2)\n",
            "Requirement already satisfied: pydantic<3,>=1 in /usr/local/lib/python3.10/dist-packages (from langchain-core) (2.7.3)\n",
            "Requirement already satisfied: aiosignal>=1.1.2 in /usr/local/lib/python3.10/dist-packages (from aiohttp<4.0.0,>=3.8.3->langchain-community) (1.3.1)\n",
            "Requirement already satisfied: attrs>=17.3.0 in /usr/local/lib/python3.10/dist-packages (from aiohttp<4.0.0,>=3.8.3->langchain-community) (23.2.0)\n",
            "Requirement already satisfied: frozenlist>=1.1.1 in /usr/local/lib/python3.10/dist-packages (from aiohttp<4.0.0,>=3.8.3->langchain-community) (1.4.1)\n",
            "Requirement already satisfied: multidict<7.0,>=4.5 in /usr/local/lib/python3.10/dist-packages (from aiohttp<4.0.0,>=3.8.3->langchain-community) (6.0.5)\n",
            "Requirement already satisfied: yarl<2.0,>=1.0 in /usr/local/lib/python3.10/dist-packages (from aiohttp<4.0.0,>=3.8.3->langchain-community) (1.9.4)\n",
            "Requirement already satisfied: async-timeout<5.0,>=4.0 in /usr/local/lib/python3.10/dist-packages (from aiohttp<4.0.0,>=3.8.3->langchain-community) (4.0.3)\n",
            "Collecting marshmallow<4.0.0,>=3.18.0 (from dataclasses-json<0.7,>=0.5.7->langchain-community)\n",
            "  Downloading marshmallow-3.21.3-py3-none-any.whl (49 kB)\n",
            "\u001b[2K     \u001b[90m━━━━━━━━━━━━━━━━━━━━━━━━━━━━━━━━━━━━━━━━\u001b[0m \u001b[32m49.2/49.2 kB\u001b[0m \u001b[31m5.7 MB/s\u001b[0m eta \u001b[36m0:00:00\u001b[0m\n",
            "\u001b[?25hCollecting typing-inspect<1,>=0.4.0 (from dataclasses-json<0.7,>=0.5.7->langchain-community)\n",
            "  Downloading typing_inspect-0.9.0-py3-none-any.whl (8.8 kB)\n",
            "Requirement already satisfied: jsonpointer>=1.9 in /usr/local/lib/python3.10/dist-packages (from jsonpatch<2.0,>=1.33->langchain-core) (2.4)\n",
            "Requirement already satisfied: langchain-text-splitters<0.3.0,>=0.2.0 in /usr/local/lib/python3.10/dist-packages (from langchain<0.3.0,>=0.2.0->langchain-community) (0.2.1)\n",
            "Requirement already satisfied: orjson<4.0.0,>=3.9.14 in /usr/local/lib/python3.10/dist-packages (from langsmith<0.2.0,>=0.1.0->langchain-community) (3.10.3)\n",
            "Requirement already satisfied: annotated-types>=0.4.0 in /usr/local/lib/python3.10/dist-packages (from pydantic<3,>=1->langchain-core) (0.7.0)\n",
            "Requirement already satisfied: pydantic-core==2.18.4 in /usr/local/lib/python3.10/dist-packages (from pydantic<3,>=1->langchain-core) (2.18.4)\n",
            "Requirement already satisfied: typing-extensions>=4.6.1 in /usr/local/lib/python3.10/dist-packages (from pydantic<3,>=1->langchain-core) (4.12.1)\n",
            "Requirement already satisfied: charset-normalizer<4,>=2 in /usr/local/lib/python3.10/dist-packages (from requests<3,>=2->langchain-community) (3.3.2)\n",
            "Requirement already satisfied: idna<4,>=2.5 in /usr/local/lib/python3.10/dist-packages (from requests<3,>=2->langchain-community) (3.7)\n",
            "Requirement already satisfied: urllib3<3,>=1.21.1 in /usr/local/lib/python3.10/dist-packages (from requests<3,>=2->langchain-community) (2.0.7)\n",
            "Requirement already satisfied: certifi>=2017.4.17 in /usr/local/lib/python3.10/dist-packages (from requests<3,>=2->langchain-community) (2024.6.2)\n",
            "Requirement already satisfied: greenlet!=0.4.17 in /usr/local/lib/python3.10/dist-packages (from SQLAlchemy<3,>=1.4->langchain-community) (3.0.3)\n",
            "Collecting mypy-extensions>=0.3.0 (from typing-inspect<1,>=0.4.0->dataclasses-json<0.7,>=0.5.7->langchain-community)\n",
            "  Downloading mypy_extensions-1.0.0-py3-none-any.whl (4.7 kB)\n",
            "Installing collected packages: mypy-extensions, marshmallow, typing-inspect, dataclasses-json, langchain-community\n",
            "Successfully installed dataclasses-json-0.6.6 langchain-community-0.2.4 marshmallow-3.21.3 mypy-extensions-1.0.0 typing-inspect-0.9.0\n"
          ]
        }
      ]
    },
    {
      "cell_type": "code",
      "source": [
        "from  langchain.llms import OpenAI"
      ],
      "metadata": {
        "id": "PfZwQVSBYmhl"
      },
      "execution_count": 15,
      "outputs": []
    },
    {
      "cell_type": "code",
      "source": [
        "key=\"sk-proj-RF8t21P16fbbPE719ku2T3BlbkFJEtb49xkqaCtFxdfTkrXV\""
      ],
      "metadata": {
        "id": "lZK5ytC2Y2BB"
      },
      "execution_count": 16,
      "outputs": []
    },
    {
      "cell_type": "code",
      "source": [
        "pip install -U langchain-openai"
      ],
      "metadata": {
        "colab": {
          "base_uri": "https://localhost:8080/"
        },
        "id": "mJX9qCmTY5Z1",
        "outputId": "602466c4-7dbf-493b-88da-a74cdff5f9b3"
      },
      "execution_count": 17,
      "outputs": [
        {
          "output_type": "stream",
          "name": "stdout",
          "text": [
            "Collecting langchain-openai\n",
            "  Downloading langchain_openai-0.1.8-py3-none-any.whl (38 kB)\n",
            "Requirement already satisfied: langchain-core<0.3,>=0.2.2 in /usr/local/lib/python3.10/dist-packages (from langchain-openai) (0.2.5)\n",
            "Requirement already satisfied: openai<2.0.0,>=1.26.0 in /usr/local/lib/python3.10/dist-packages (from langchain-openai) (1.33.0)\n",
            "Collecting tiktoken<1,>=0.7 (from langchain-openai)\n",
            "  Downloading tiktoken-0.7.0-cp310-cp310-manylinux_2_17_x86_64.manylinux2014_x86_64.whl (1.1 MB)\n",
            "\u001b[2K     \u001b[90m━━━━━━━━━━━━━━━━━━━━━━━━━━━━━━━━━━━━━━━━\u001b[0m \u001b[32m1.1/1.1 MB\u001b[0m \u001b[31m11.3 MB/s\u001b[0m eta \u001b[36m0:00:00\u001b[0m\n",
            "\u001b[?25hRequirement already satisfied: PyYAML>=5.3 in /usr/local/lib/python3.10/dist-packages (from langchain-core<0.3,>=0.2.2->langchain-openai) (6.0.1)\n",
            "Requirement already satisfied: jsonpatch<2.0,>=1.33 in /usr/local/lib/python3.10/dist-packages (from langchain-core<0.3,>=0.2.2->langchain-openai) (1.33)\n",
            "Requirement already satisfied: langsmith<0.2.0,>=0.1.66 in /usr/local/lib/python3.10/dist-packages (from langchain-core<0.3,>=0.2.2->langchain-openai) (0.1.75)\n",
            "Requirement already satisfied: packaging<24.0,>=23.2 in /usr/local/lib/python3.10/dist-packages (from langchain-core<0.3,>=0.2.2->langchain-openai) (23.2)\n",
            "Requirement already satisfied: pydantic<3,>=1 in /usr/local/lib/python3.10/dist-packages (from langchain-core<0.3,>=0.2.2->langchain-openai) (2.7.3)\n",
            "Requirement already satisfied: tenacity<9.0.0,>=8.1.0 in /usr/local/lib/python3.10/dist-packages (from langchain-core<0.3,>=0.2.2->langchain-openai) (8.3.0)\n",
            "Requirement already satisfied: anyio<5,>=3.5.0 in /usr/local/lib/python3.10/dist-packages (from openai<2.0.0,>=1.26.0->langchain-openai) (3.7.1)\n",
            "Requirement already satisfied: distro<2,>=1.7.0 in /usr/lib/python3/dist-packages (from openai<2.0.0,>=1.26.0->langchain-openai) (1.7.0)\n",
            "Requirement already satisfied: httpx<1,>=0.23.0 in /usr/local/lib/python3.10/dist-packages (from openai<2.0.0,>=1.26.0->langchain-openai) (0.27.0)\n",
            "Requirement already satisfied: sniffio in /usr/local/lib/python3.10/dist-packages (from openai<2.0.0,>=1.26.0->langchain-openai) (1.3.1)\n",
            "Requirement already satisfied: tqdm>4 in /usr/local/lib/python3.10/dist-packages (from openai<2.0.0,>=1.26.0->langchain-openai) (4.66.4)\n",
            "Requirement already satisfied: typing-extensions<5,>=4.7 in /usr/local/lib/python3.10/dist-packages (from openai<2.0.0,>=1.26.0->langchain-openai) (4.12.1)\n",
            "Requirement already satisfied: regex>=2022.1.18 in /usr/local/lib/python3.10/dist-packages (from tiktoken<1,>=0.7->langchain-openai) (2024.5.15)\n",
            "Requirement already satisfied: requests>=2.26.0 in /usr/local/lib/python3.10/dist-packages (from tiktoken<1,>=0.7->langchain-openai) (2.31.0)\n",
            "Requirement already satisfied: idna>=2.8 in /usr/local/lib/python3.10/dist-packages (from anyio<5,>=3.5.0->openai<2.0.0,>=1.26.0->langchain-openai) (3.7)\n",
            "Requirement already satisfied: exceptiongroup in /usr/local/lib/python3.10/dist-packages (from anyio<5,>=3.5.0->openai<2.0.0,>=1.26.0->langchain-openai) (1.2.1)\n",
            "Requirement already satisfied: certifi in /usr/local/lib/python3.10/dist-packages (from httpx<1,>=0.23.0->openai<2.0.0,>=1.26.0->langchain-openai) (2024.6.2)\n",
            "Requirement already satisfied: httpcore==1.* in /usr/local/lib/python3.10/dist-packages (from httpx<1,>=0.23.0->openai<2.0.0,>=1.26.0->langchain-openai) (1.0.5)\n",
            "Requirement already satisfied: h11<0.15,>=0.13 in /usr/local/lib/python3.10/dist-packages (from httpcore==1.*->httpx<1,>=0.23.0->openai<2.0.0,>=1.26.0->langchain-openai) (0.14.0)\n",
            "Requirement already satisfied: jsonpointer>=1.9 in /usr/local/lib/python3.10/dist-packages (from jsonpatch<2.0,>=1.33->langchain-core<0.3,>=0.2.2->langchain-openai) (2.4)\n",
            "Requirement already satisfied: orjson<4.0.0,>=3.9.14 in /usr/local/lib/python3.10/dist-packages (from langsmith<0.2.0,>=0.1.66->langchain-core<0.3,>=0.2.2->langchain-openai) (3.10.3)\n",
            "Requirement already satisfied: annotated-types>=0.4.0 in /usr/local/lib/python3.10/dist-packages (from pydantic<3,>=1->langchain-core<0.3,>=0.2.2->langchain-openai) (0.7.0)\n",
            "Requirement already satisfied: pydantic-core==2.18.4 in /usr/local/lib/python3.10/dist-packages (from pydantic<3,>=1->langchain-core<0.3,>=0.2.2->langchain-openai) (2.18.4)\n",
            "Requirement already satisfied: charset-normalizer<4,>=2 in /usr/local/lib/python3.10/dist-packages (from requests>=2.26.0->tiktoken<1,>=0.7->langchain-openai) (3.3.2)\n",
            "Requirement already satisfied: urllib3<3,>=1.21.1 in /usr/local/lib/python3.10/dist-packages (from requests>=2.26.0->tiktoken<1,>=0.7->langchain-openai) (2.0.7)\n",
            "Installing collected packages: tiktoken, langchain-openai\n",
            "Successfully installed langchain-openai-0.1.8 tiktoken-0.7.0\n"
          ]
        }
      ]
    },
    {
      "cell_type": "code",
      "source": [
        "#Restaurant Recommendations:\n",
        "client= OpenAI(api_key=key)\n",
        "prompt = \"Based on student preferences, suggest some restaurants with reason\"\n",
        "print(\"Based on student preferences, suggest some restaurants\")\n",
        "print(client.invoke(prompt))\n"
      ],
      "metadata": {
        "colab": {
          "base_uri": "https://localhost:8080/"
        },
        "id": "z7tCAZ4xZqfT",
        "outputId": "4036f7d6-2b36-4b7b-f108-b7466b8477c4"
      },
      "execution_count": 38,
      "outputs": [
        {
          "output_type": "stream",
          "name": "stdout",
          "text": [
            "Based on student preferences, suggest some restaurants\n",
            "\n",
            "\n",
            "1. Chipotle - This is a popular restaurant among students because of its customizable and budget-friendly options. Students can choose their preferred protein, toppings, and sides, making it a perfect spot for picky eaters. Plus, their food is known for being fresh and healthy.\n",
            "\n",
            "2. Noodles & Company - This restaurant offers a variety of noodle dishes from different cuisines, such as Italian, Asian, and American. Students love it because of its generous serving sizes and affordable prices. They also have options for vegetarian and gluten-free diets.\n",
            "\n",
            "3. Buffalo Wild Wings - For students who love sports and a casual atmosphere, this is the go-to restaurant. They have a wide selection of wings with different flavors, as well as burgers, sandwiches, and salads. Many locations also offer student discounts and specials during major sports events.\n",
            "\n",
            "4. Blaze Pizza - This fast-casual pizza chain is a hit among students because of its build-your-own pizza concept. Students can choose from a variety of toppings and watch their pizza being made in front of them. The best part? It's ready in just a few minutes, perfect for a quick lunch between classes.\n",
            "\n",
            "5. The Cheesecake Factory - This restaurant is a student favorite for its extensive menu and generous portions\n"
          ]
        }
      ]
    },
    {
      "cell_type": "code",
      "source": [
        "# Datastored in pandas dataframe\n",
        "\n",
        "for i in range(len(response.choices[0].message.tool_calls)):\n",
        "  try:\n",
        "    print(response.choices[0].message.tool_calls[i].function.arguments)\n",
        "  except IndexError:\n",
        "    print(\"End of tool calls reached.\")\n",
        "    break\n",
        "\n",
        "# Store the extracted data in a Pandas DataFrame\n",
        "df = pd.DataFrame(columns=[\"name\", \"fav_Food\", \"fav_restaurant\", \"total_amt\", \"city\", \"suggestion\"])\n",
        "\n",
        "for i in range(len(response.choices[0].message.tool_calls)):\n",
        "  try:\n",
        "    df.loc[i] = response.choices[0].message.tool_calls[i].function.arguments\n",
        "  except IndexError:\n",
        "    break"
      ],
      "metadata": {
        "colab": {
          "base_uri": "https://localhost:8080/"
        },
        "id": "IjMx-_DwZxvq",
        "outputId": "34464c93-6dfe-4c2b-fc09-3e8bda60f6e8"
      },
      "execution_count": 37,
      "outputs": [
        {
          "output_type": "stream",
          "name": "stdout",
          "text": [
            "{\"name\": \"Ravi\", \"fav_Food\": \"Pizza and Burger\", \"fav_restaurant\": \"LaPinoz\", \"total_amt\": \"9000\", \"city\": \"Jaipur\"}\n",
            "{\"name\": \"Sameer\", \"fav_Food\": \"Butter Chicken and Naan\", \"fav_restaurant\": \"Zaika\", \"total_amt\": \"5000\", \"city\": \"Delhi\"}\n",
            "{\"name\": \"Kiran\", \"fav_Food\": \"Chole Bhature\", \"fav_restaurant\": \"Chandni Chowk\", \"total_amt\": \"2000\", \"city\": \"Delhi\"}\n",
            "{\"name\": \"Maya\", \"fav_Food\": \"Rajma Chawal\", \"fav_restaurant\": \"Biryani Paradise\", \"total_amt\": \"3000\", \"city\": \"Bengaluru\"}\n",
            "{\"name\": \"Akash\", \"fav_Food\": \"Thali meals\", \"fav_restaurant\": \"Saravana Bhavan\", \"total_amt\": \"4000\", \"city\": \"Chennai\"}\n",
            "{\"name\": \"Neha\", \"fav_Food\": \"Aloo Gobi and Roti\", \"fav_restaurant\": \"Ghar Ki Rasoi\", \"total_amt\": \"6000\", \"city\": \"Mumbai\"}\n",
            "{\"name\": \"Rohan\", \"fav_Food\": \"Biryani\", \"fav_restaurant\": \"Paradise Biryani\", \"total_amt\": \"4500\", \"city\": \"Hyderabad\"}\n",
            "{\"name\": \"Aisha\", \"fav_Food\": \"Pav Bhaji\", \"fav_restaurant\": \"Aadyaa\", \"total_amt\": \"3500\", \"city\": \"Pune\"}\n",
            "{\"name\": \"Dev\", \"fav_Food\": \"Dosa and Uttapam\", \"fav_restaurant\": \"Sankalp\", \"total_amt\": \"2000\", \"city\": \"Chennai\"}\n",
            "{\"name\": \"Mira\", \"fav_Food\": \"Masala Dosa and Filter Coffee\", \"fav_restaurant\": \"Iyengar Bakery\", \"total_amt\": \"2500\", \"city\": \"Bengaluru\"}\n"
          ]
        }
      ]
    },
    {
      "cell_type": "code",
      "source": [],
      "metadata": {
        "id": "BH9DDHTxbYTI"
      },
      "execution_count": null,
      "outputs": []
    }
  ]
}